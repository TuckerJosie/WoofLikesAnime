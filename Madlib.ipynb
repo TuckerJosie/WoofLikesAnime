{
  "nbformat": 4,
  "nbformat_minor": 0,
  "metadata": {
    "colab": {
      "provenance": [],
      "authorship_tag": "ABX9TyM2T8ZUq8VGugvEic41v5ID",
      "include_colab_link": true
    },
    "kernelspec": {
      "name": "python3",
      "display_name": "Python 3"
    },
    "language_info": {
      "name": "python"
    }
  },
  "cells": [
    {
      "cell_type": "markdown",
      "metadata": {
        "id": "view-in-github",
        "colab_type": "text"
      },
      "source": [
        "<a href=\"https://colab.research.google.com/github/TuckerJosie/WoofLikesAnime/blob/main/Madlib.ipynb\" target=\"_parent\"><img src=\"https://colab.research.google.com/assets/colab-badge.svg\" alt=\"Open In Colab\"/></a>"
      ]
    },
    {
      "cell_type": "code",
      "execution_count": 2,
      "metadata": {
        "colab": {
          "base_uri": "https://localhost:8080/"
        },
        "id": "VyEgY-fRdXQt",
        "outputId": "7892eb8f-4660-44d5-ba01-fbe8397cb28e"
      },
      "outputs": [
        {
          "output_type": "stream",
          "name": "stderr",
          "text": [
            "[nltk_data] Downloading package words to /root/nltk_data...\n",
            "[nltk_data]   Unzipping corpora/words.zip.\n"
          ]
        },
        {
          "output_type": "stream",
          "name": "stdout",
          "text": [
            "Enter an adjective: \n",
            "Invalid input. Please enter a valid word.\n",
            "Enter an adjective: aaudsk\n",
            "Invalid input. Please enter a valid word.\n",
            "Enter an adjective: gay\n",
            "Enter a noun: dasda\n",
            "Invalid input. Please enter a valid word.\n",
            "Enter a noun: dad\n",
            "Enter an animal: dad\n",
            "Enter an adjective: dad\n",
            "Enter a treasure: ad\n",
            "Once upon a time in a gay dad, there lived a dad who was known for their dad adventures. One day, they set out on a journey to find the legendary ad.\n"
          ]
        }
      ],
      "source": [
        "import nltk\n",
        "nltk.download('words')\n",
        "from nltk.corpus import words\n",
        "\n",
        "# Madlib template\n",
        "template = \"Once upon a time in a {} {}, there lived a {} who was known for their {} adventures. One day, they set out on a journey to find the legendary {}.\"\n",
        "\n",
        "# List of allowed English words for each input\n",
        "english_words = set(words.words())\n",
        "\n",
        "# Function for input validation\n",
        "def get_valid_input(prompt, allowed_words):\n",
        "    while True:\n",
        "        user_input = input(prompt)\n",
        "        if user_input.lower() in allowed_words:\n",
        "            return user_input.lower()\n",
        "        else:\n",
        "            print(\"Invalid input. Please enter a valid word.\")\n",
        "\n",
        "# Ask the user for input\n",
        "adjective1 = get_valid_input(\"Enter an adjective: \", english_words)\n",
        "noun1 = get_valid_input(\"Enter a noun: \", english_words)\n",
        "animal = get_valid_input(\"Enter an animal: \", english_words)\n",
        "adjective2 = get_valid_input(\"Enter an adjective: \", english_words)\n",
        "treasure = get_valid_input(\"Enter a treasure: \", english_words)\n",
        "\n",
        "# Fill in the madlib template\n",
        "madlib = template.format(adjective1, noun1, animal, adjective2, treasure)\n",
        "\n",
        "# Print the completed madlib\n",
        "print(madlib)\n"
      ]
    }
  ]
}